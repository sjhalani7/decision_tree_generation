{
 "cells": [
  {
   "cell_type": "code",
   "execution_count": 135,
   "metadata": {},
   "outputs": [],
   "source": [
    "from sklearn.model_selection import train_test_split\n",
    "from sklearn.tree import DecisionTreeClassifier\n",
    "from sklearn.metrics import accuracy_score\n",
    "import csv\n",
    "from sklearn.ensemble import RandomForestClassifier\n",
    "\n",
    "import pandas as pd"
   ]
  },
  {
   "cell_type": "code",
   "execution_count": 124,
   "metadata": {},
   "outputs": [
    {
     "data": {
      "text/plain": [
       "\"a wounded deer leaps highest i've heard the hunter tell 't is but the ecstasy of death and then the brake is still the smitten rock that gushes the trampled steel that springs a cheek is always redder just where the hectic stings mirth is the mail of anguish in which it cautions arm lest anybody spy the blood and you're hurt exclaim one dignity delays for all one mitred afternoon none can avoid this purple none evade this crown coach it insures and footmen chamber and state and throng bells also in the village as we ride grand along what dignified attendants what service when we pause how loyally at parting their hundred hats they raise how pomp surpassing ermine when simple you and i present our meek escutcheon and claim the rank to die safe in their alabaster chambers untouched by morning and untouched by noon sleep the meek members of the resurrection rafter of satin and roof of stone light laughs the breeze in her castle of sunshine babbles the bee in a stolid ear pipe the sweet birds in ignorant cadence  ah what sagacity perished here grand go the years in the crescent above them worlds scoop their arcs and firmaments row diadems drop and doges surrender soundless as dots on a disk of snow so bashful when i spied her so pretty so ashamed so hidden in her leaflets lest anybody find so breathless till i passed her so helpless when i turned and bore her struggling blushing her simple haunts beyond for whom i robbed the dingle for whom betrayed the dell many will doubtless ask me but i shall never tell there's a certain slant of light on winter afternoons that oppresses like the weight of cathedral tunes heavenly hurt it gives us we can find no scar but internal difference where the meanings are none may teach it anything ' t is the seal despair  an imperial affliction sent us of the air when it comes the landscape listens shadows hold their breath when it goes 't is like the distance on the look of death to fight aloud is very brave but gallanter i know who charge within the bosom the cavalry of woe who win and nations do not see who fall and none observe whose dying eyes no country regards with patriot love we trust in plumed procession for such the angels go rank after rank with even feet and uniforms of snow your riches taught me poverty myself a millionnaire in little wealths  as girls could boast  till broad as buenos ayre you drifted your dominions a different peru and i esteemed all poverty for life's estate with you of mines i little know myself but just the names of gems  the colors of the commonest and scarce of diadems so much that did i meet the queen her glory i should know but this must be a different wealth to miss it beggars so i 'm sure 't is india all day to those who look on you without a stint without a blame  might i but be the jew i 'm sure it is golconda beyond my power to deem  to have a smile for mine each day how better than a gem at least it solaces to know that there exists a gold although i prove it just in time its distance to behold it 's far far treasure to surmise and estimate the pearl that slipped my simple fingers through while just a girl at school a clock stopped  not the mantel's geneva's farthest skill can't put the puppet bowing that just now dangled still an awe came on the trinket the figures hunched with pain then quivered out of decimals into degreeless noon it will not stir for doctors this pendulum of snow the shopman importunes it while cool concernless no nods from the gilded pointers nods from the seconds slim decades of arrogance between the dial life and him i'll tell you how the sun rose  a ribbon at a time the steeples swam in amethyst the news like squirrels ran the hills untied their bonnets the bobolinks begun then i said softly to myself that must have been the sun but how he set i know not there seemed a purple stile which little yellow boys and girls were climbing all the while till when they reached the other side a dominie in gray put gently up the evening bars and led the flock away a light exists in spring not present on the year at any other period when march is scarcely here a color stands abroad on solitary hills that science cannot overtake but human nature feels it waits upon the lawn it shows the furthest tree upon the furthest slope we know it almost speaks to me then as horizons step or noons report away without the formula of sound it passes and we stay a quality of loss affecting our content as trade had suddenly encroached upon a sacrament if anybody's friend be dead it 's sharpest of the theme the thinking how they walked alive at such and such a time their costume of a sunday some manner of the hair  a prank nobody knew but them lost in the sepulchre how warm they were on such a day you almost feel the date so short way off it seems and now they 're centuries from that how pleased they were at what you said you try to touch the smile and dip your fingers in the frost when was it can you tell you asked the company to tea acquaintance just a few and chatted close with this grand thing that don't remember you past bows and invitations past interview and vow past what ourselves can estimate  that makes the quick of woe glee the great storm is over four have recovered the land forty gone down together into the boiling sand ring for the scant salvation toll for the bonnie souls  neighbor and friend and bridegroom spinning upon the shoals how they will tell the shipwreck when winter shakes the door till the children ask but the forty did they come back no more then a silence suffuses the story and a softness the teller's eye and the children no further question and only the waves reply i meant to have but modest needs such as content and heaven within my income these could lie and life and i keep even but since the last included both it would suffice my prayer but just for one to stipulate and grace would grant the pair and so upon this wise i prayed  great spirit give to me a heaven not so large as yours but large enough for me a smile suffused jehovah's face the cherubim withdrew grave saints stole out to look at me and showed their dimples too i left the place with all my might  my prayer away i threw the quiet ages picked it up and judgment twinkled too that one so honest be extant as take the tale for true that whatsoever you shall ask itself be given you but i grown shrewder scan the skies with a suspicious air  as children swindled for the first all swindlers be infer i think just how my shape will rise when i shall be forgiven till hair and eyes and timid head are out of sight in heaven i think just how my lips will weigh with shapeless quivering prayer that you so late consider me the sparrow of your care i mind me that of anguish sent some drifts were moved away before my simple bosom broke  and why not this if they and so until delirious borne i con that thing  forgiven  till with long fright and longer trust i drop my heart unshriven i went to heaven  't was a small town lit with a ruby lathed with down stiller than the fields at the full dew beautiful as pictures no man drew people like the moth of mechlin frames duties of gossamer and eider names almost contented i could be 'mong such unique society i cannot live with you it would be life and life is over there behind the shelf the sexton keeps the key to putting up our life his porcelain like a cup discarded of the housewife quaint or broken a newer sevres pleases old ones crack i could not die with you for one must wait to shut the other's gaze down  you could not and i could i stand by and see you freeze without my right of frost death's privilege nor could i rise with you because your face would put out jesus' that new grace glow plain and foreign on my homesick eye except that you than he shone closer by they'd judge us  how for you served heaven you know or sought to i could not because you saturated sight and i had no more eyes for sordid excellence as paradise and were you lost i would be though my name rang loudest on the heavenly fame and were you saved and i condemned to be where you were not that self were hell to me so we must keep apart you there i here with just the door ajar that oceans are and prayer and that pale sustenance despair it was not death for i stood up and all the dead lie down it was not night for all the bells put out their tongues for noon it was not frost for on my flesh i felt siroccos crawl  nor fire for just my marble feet could keep a chancel cool and yet it tasted like them all the figures i have seen set orderly for burial reminded me of mine as if my life were shaven and fitted to a frame and could not breathe without a key and 't was like midnight some when everything that ticked has stopped and space stares all around or grisly frosts first autumn morns repeal the beating ground but most like chaos  stopless cool  without a chance or spar or even a report of land to justify despair i envy seas whereon he rides i envy spokes of wheels of chariots that him convey i envy speechless hills that gaze upon his journey how easy all can see what is forbidden utterly as heaven unto me i envy nests of sparrows that dot his distant eaves the wealthy fly upon his pane the happy happy leaves that just abroad his window have summer's leave to be the earrings of pizarro could not obtain for me i envy light that wakes him and bells that boldly ring to tell him it is noon abroad  myself his noon could bring yet interdict my blossom and abrogate my bee lest noon in everlasting night drop gabriel and me musicians wrestle everywhere all day among the crowded air i hear the silver strife and  waking long before the dawn  such transport breaks upon the town i think it that new life it is not bird it has no nest nor band in brass and scarlet dressed nor tambourine nor man it is not hymn from pulpit read  the morning stars the treble led on time's first afternoon some say it is the spheres at play some say that bright majority of vanished dames and men some think it service in the place where we with late celestial face please god shall ascertain a something in a summer's day as slow her flambeaux burn away which solemnizes me a something in a summer's noon  an azure depth a wordless tune transcending ecstasy and still within a summer's night a something so transporting bright i clap my hands to see then veil my too inspecting face lest such a subtle shimmering grace flutter too far for me the wizardfingers never rest the purple brook within the breast still chafes its narrow bed still rears the east her amber flag guides still the sun along the crag his caravan of red like flowers that heard the tale of dews but never deemed the dripping prize awaited their low brows or bees that thought the summer's name some rumor of delirium no summer could for them or arctic creature dimly stirred by tropic hint  some travelled bird imported to the wood or wind's bright signal to the ear making that homely and severe contented known before the heaven unexpected came to lives that thought their worshipping a too presumptuous psalm arcturus is his other name  i'd rather call him star it's so unkind of science to go and interfere i pull a flower from the woods  a monster with a glass computes the stamens in a breath and has her in a class whereas i took the butterfly aforetime in my hat he sits erect in cabinets the cloverbells forgot what once was heaven is zenith now where i proposed to go when time's brief masquerade was done is mapped and charted too what if the poles should frisk about and stand upon their heads i hope i 'm ready for the worst whatever prank betides perhaps the kingdom of heaven 's changed i hope the children there won't be newfashioned when i come and laugh at me and stare i hope the father in the skies will lift his little girl  oldfashioned naughty everything  over the stile of pearl nature the gentlest mother impatient of no child the feeblest or the waywardest  her admonition mild in forest and the hill by traveller is heard restraining rampant squirrel or too impetuous bird how fair her conversation a summer afternoon  her household her assembly and when the sun goes down her voice among the aisles incites the timid prayer of the minutest cricket the most unworthy flower when all the children sleep she turns as long away as will suffice to light her lamps then bending from the sky with infinite affection and infiniter care her golden finger on her lip wills silence everywhere have you got a brook in your little heart where bashful flowers blow and blushing birds go down to drink and shadows tremble so and nobody knows so still it flows that any brook is there and yet your little draught of life is daily drunken there then look out for the little brook in march when the rivers overflow and the snows come hurrying from the hills and the bridges often go and later in august it may be when the meadows parching lie beware lest this little brook of life some burning noon go dry in lands i never saw they say immortal alps look down whose bonnets touch the firmament whose sandals touch the town  meek at whose everlasting feet a myriad daisies play which sir are you and which am i upon an august day there is a flower that bees prefer and butterflies desire to gain the purple democrat the hummingbirds aspire and whatsoever insect pass a honey bears away proportioned to his several dearth and her capacity her face is rounder than the moon and ruddier than the gown of orchis in the pasture or rhododendron worn she doth not wait for june before the world is green her sturdy little countenance against the wind is seen contending with the grass near kinsman to herself for privilege of sod and sun sweet litigants for life and when the hills are full and newer fashions blow doth not retract a single spice for pang of jealousy her public is the noon her providence the sun her progress by the bee proclaimed in sovereign swerveless tune the bravest of the host surrendering the last nor even of defeat aware when cancelled by the frost i taste a liquor never brewed from tankards scooped in pearl not all the vats upon the rhine yield such an alcohol inebriate of air am i and debauchee of dew reeling through endless summer days from inns of molten blue when landlords turn the drunken bee out of the foxglove's door when butterflies renounce their drams i shall but drink the more till seraphs swing their snowy hats and saints to windows run to see the little tippler leaning against the sun a little road not made of man enabled of the eye accessible to thill of bee or cart of butterfly if town it have beyond itself 't is that i cannot say i only sigh  no vehicle bears me along that way i know a place where summer strives with such a practised frost she each year leads her daisies back recording briefly lost but when the south wind stirs the pools and struggles in the lanes her heart misgives her for her vow and she pours soft refrains into the lap of adamant and spices and the dew that stiffens quietly to quartz upon her amber shoe if you were coming in the fall i'd brush the summer by with half a smile and half a spurn as housewives do a fly if i could see you in a year i'd wind the months in balls and put them each in separate drawers until their time befalls if only centuries delayed i'd count them on my hand subtracting till my fingers dropped into van diemen's land if certain when this life was out that yours and mine should be i'd toss it yonder like a rind and taste eternity but now all ignorant of the length of time's uncertain wing it goads me like the goblin bee that will not state its sting if i should die and you should live and time should gurgle on and morn should beam and noon should burn as it has usual done if birds should build as early and bees as bustling go  one might depart at option from enterprise below 't is sweet to know that stocks will stand when we with daisies lie that commerce will continue and trades as briskly fly it makes the parting tranquil and keeps the soul serene that gentlemen so sprightly conduct the pleasing scene on this long storm the rainbow rose on this late morn the sun the clouds like listless elephants horizons straggled down the birds rose smiling in their nests the gales indeed were done alas how heedless were the eyes on whom the summer shone the quiet nonchalance of death no daybreak can bestir the slow archangel's syllables must awaken her \""
      ]
     },
     "execution_count": 124,
     "metadata": {},
     "output_type": "execute_result"
    }
   ],
   "source": [
    "data = open('data/gen_data/cleaned_file_all.txt', 'r').read()\n",
    "data"
   ]
  },
  {
   "cell_type": "code",
   "execution_count": 125,
   "metadata": {},
   "outputs": [],
   "source": [
    "def create_dataset(data:str, window_size:int=2)-> None:\n",
    "    with open(\"data/gen_data/test_data.csv\", 'w', newline='') as f:\n",
    "        writer = csv.writer(f)\n",
    "        writer.writerow(['Previous_ch', \"Next_char\"])\n",
    "        i = 0\n",
    "        while i<len(data)-window_size-1:\n",
    "            writer.writerow([data[i:i+window_size], data[i+window_size]])\n",
    "            i+=1\n",
    "    return\n",
    "\n",
    "create_dataset(data)\n"
   ]
  },
  {
   "cell_type": "code",
   "execution_count": 126,
   "metadata": {},
   "outputs": [
    {
     "data": {
      "text/html": [
       "<div>\n",
       "<style scoped>\n",
       "    .dataframe tbody tr th:only-of-type {\n",
       "        vertical-align: middle;\n",
       "    }\n",
       "\n",
       "    .dataframe tbody tr th {\n",
       "        vertical-align: top;\n",
       "    }\n",
       "\n",
       "    .dataframe thead th {\n",
       "        text-align: right;\n",
       "    }\n",
       "</style>\n",
       "<table border=\"1\" class=\"dataframe\">\n",
       "  <thead>\n",
       "    <tr style=\"text-align: right;\">\n",
       "      <th></th>\n",
       "      <th>Previous_ch</th>\n",
       "      <th>Next_char</th>\n",
       "    </tr>\n",
       "  </thead>\n",
       "  <tbody>\n",
       "    <tr>\n",
       "      <th>0</th>\n",
       "      <td>a</td>\n",
       "      <td>w</td>\n",
       "    </tr>\n",
       "    <tr>\n",
       "      <th>1</th>\n",
       "      <td>w</td>\n",
       "      <td>o</td>\n",
       "    </tr>\n",
       "    <tr>\n",
       "      <th>2</th>\n",
       "      <td>wo</td>\n",
       "      <td>u</td>\n",
       "    </tr>\n",
       "    <tr>\n",
       "      <th>3</th>\n",
       "      <td>ou</td>\n",
       "      <td>n</td>\n",
       "    </tr>\n",
       "    <tr>\n",
       "      <th>4</th>\n",
       "      <td>un</td>\n",
       "      <td>d</td>\n",
       "    </tr>\n",
       "    <tr>\n",
       "      <th>...</th>\n",
       "      <td>...</td>\n",
       "      <td>...</td>\n",
       "    </tr>\n",
       "    <tr>\n",
       "      <th>16440</th>\n",
       "      <td>ke</td>\n",
       "      <td>n</td>\n",
       "    </tr>\n",
       "    <tr>\n",
       "      <th>16441</th>\n",
       "      <td>en</td>\n",
       "      <td></td>\n",
       "    </tr>\n",
       "    <tr>\n",
       "      <th>16442</th>\n",
       "      <td>n</td>\n",
       "      <td>h</td>\n",
       "    </tr>\n",
       "    <tr>\n",
       "      <th>16443</th>\n",
       "      <td>h</td>\n",
       "      <td>e</td>\n",
       "    </tr>\n",
       "    <tr>\n",
       "      <th>16444</th>\n",
       "      <td>he</td>\n",
       "      <td>r</td>\n",
       "    </tr>\n",
       "  </tbody>\n",
       "</table>\n",
       "<p>16445 rows × 2 columns</p>\n",
       "</div>"
      ],
      "text/plain": [
       "      Previous_ch Next_char\n",
       "0              a          w\n",
       "1               w         o\n",
       "2              wo         u\n",
       "3              ou         n\n",
       "4              un         d\n",
       "...           ...       ...\n",
       "16440          ke         n\n",
       "16441          en          \n",
       "16442          n          h\n",
       "16443           h         e\n",
       "16444          he         r\n",
       "\n",
       "[16445 rows x 2 columns]"
      ]
     },
     "execution_count": 126,
     "metadata": {},
     "output_type": "execute_result"
    }
   ],
   "source": [
    "df = pd.read_csv('data/gen_data/test_data.csv')\n",
    "df"
   ]
  },
  {
   "cell_type": "code",
   "execution_count": 127,
   "metadata": {},
   "outputs": [],
   "source": [
    "all_chars = \"\".join(df[\"Previous_ch\"]) + \"\".join(df['Next_char'])\n",
    "unique_chars_set = list(set(all_chars))\n",
    "ch_to_int = {}\n",
    "i = 0\n",
    "for ch in unique_chars_set:\n",
    "    ch_to_int[ch] = i\n",
    "    i+=1\n",
    "\n",
    "int_to_ch = {}\n",
    "for ch, int in ch_to_int.items():\n",
    "    int_to_ch[int] = ch\n"
   ]
  },
  {
   "cell_type": "code",
   "execution_count": 128,
   "metadata": {},
   "outputs": [],
   "source": [
    "df['target'] = df['Next_char'].apply(lambda x: ch_to_int[x])\n",
    "\n",
    "def encode_row(prev_str):\n",
    "    lis = []\n",
    "    for ch in prev_str:\n",
    "        lis.append(ch_to_int[ch])\n",
    "    return lis\n",
    "\n",
    "\n",
    "\n",
    "df.drop(columns=['Next_char'], inplace=True)"
   ]
  },
  {
   "cell_type": "code",
   "execution_count": 129,
   "metadata": {},
   "outputs": [
    {
     "data": {
      "text/html": [
       "<div>\n",
       "<style scoped>\n",
       "    .dataframe tbody tr th:only-of-type {\n",
       "        vertical-align: middle;\n",
       "    }\n",
       "\n",
       "    .dataframe tbody tr th {\n",
       "        vertical-align: top;\n",
       "    }\n",
       "\n",
       "    .dataframe thead th {\n",
       "        text-align: right;\n",
       "    }\n",
       "</style>\n",
       "<table border=\"1\" class=\"dataframe\">\n",
       "  <thead>\n",
       "    <tr style=\"text-align: right;\">\n",
       "      <th></th>\n",
       "      <th>target</th>\n",
       "      <th>encoded_prev_ch</th>\n",
       "    </tr>\n",
       "  </thead>\n",
       "  <tbody>\n",
       "    <tr>\n",
       "      <th>0</th>\n",
       "      <td>9</td>\n",
       "      <td>[13, 23]</td>\n",
       "    </tr>\n",
       "    <tr>\n",
       "      <th>1</th>\n",
       "      <td>10</td>\n",
       "      <td>[23, 9]</td>\n",
       "    </tr>\n",
       "    <tr>\n",
       "      <th>2</th>\n",
       "      <td>7</td>\n",
       "      <td>[9, 10]</td>\n",
       "    </tr>\n",
       "    <tr>\n",
       "      <th>3</th>\n",
       "      <td>1</td>\n",
       "      <td>[10, 7]</td>\n",
       "    </tr>\n",
       "    <tr>\n",
       "      <th>4</th>\n",
       "      <td>0</td>\n",
       "      <td>[7, 1]</td>\n",
       "    </tr>\n",
       "    <tr>\n",
       "      <th>...</th>\n",
       "      <td>...</td>\n",
       "      <td>...</td>\n",
       "    </tr>\n",
       "    <tr>\n",
       "      <th>16440</th>\n",
       "      <td>1</td>\n",
       "      <td>[22, 8]</td>\n",
       "    </tr>\n",
       "    <tr>\n",
       "      <th>16441</th>\n",
       "      <td>23</td>\n",
       "      <td>[8, 1]</td>\n",
       "    </tr>\n",
       "    <tr>\n",
       "      <th>16442</th>\n",
       "      <td>25</td>\n",
       "      <td>[1, 23]</td>\n",
       "    </tr>\n",
       "    <tr>\n",
       "      <th>16443</th>\n",
       "      <td>8</td>\n",
       "      <td>[23, 25]</td>\n",
       "    </tr>\n",
       "    <tr>\n",
       "      <th>16444</th>\n",
       "      <td>20</td>\n",
       "      <td>[25, 8]</td>\n",
       "    </tr>\n",
       "  </tbody>\n",
       "</table>\n",
       "<p>16445 rows × 2 columns</p>\n",
       "</div>"
      ],
      "text/plain": [
       "       target encoded_prev_ch\n",
       "0           9        [13, 23]\n",
       "1          10         [23, 9]\n",
       "2           7         [9, 10]\n",
       "3           1         [10, 7]\n",
       "4           0          [7, 1]\n",
       "...       ...             ...\n",
       "16440       1         [22, 8]\n",
       "16441      23          [8, 1]\n",
       "16442      25         [1, 23]\n",
       "16443       8        [23, 25]\n",
       "16444      20         [25, 8]\n",
       "\n",
       "[16445 rows x 2 columns]"
      ]
     },
     "execution_count": 129,
     "metadata": {},
     "output_type": "execute_result"
    }
   ],
   "source": [
    "df['encoded_prev_ch'] = df['Previous_ch'].apply(encode_row)\n",
    "df\n",
    "df.drop(columns=['Previous_ch'])"
   ]
  },
  {
   "cell_type": "code",
   "execution_count": 130,
   "metadata": {},
   "outputs": [
    {
     "data": {
      "text/plain": [
       "0         9\n",
       "1        10\n",
       "2         7\n",
       "3         1\n",
       "4         0\n",
       "         ..\n",
       "16440     1\n",
       "16441    23\n",
       "16442    25\n",
       "16443     8\n",
       "16444    20\n",
       "Name: target, Length: 16445, dtype: int64"
      ]
     },
     "execution_count": 130,
     "metadata": {},
     "output_type": "execute_result"
    }
   ],
   "source": [
    "X = pd.DataFrame(df['encoded_prev_ch'].tolist())\n",
    "y = df['target'] \n",
    "\n",
    "y"
   ]
  },
  {
   "cell_type": "code",
   "execution_count": 131,
   "metadata": {},
   "outputs": [],
   "source": [
    "X_train, X_test, y_train, y_test = train_test_split(\n",
    "    X, \n",
    "    y, \n",
    "    test_size=0.2, \n",
    "    random_state=42\n",
    ")\n"
   ]
  },
  {
   "cell_type": "markdown",
   "metadata": {},
   "source": [
    "### Decision Trees"
   ]
  },
  {
   "cell_type": "code",
   "execution_count": 132,
   "metadata": {},
   "outputs": [
    {
     "name": "stdout",
     "output_type": "stream",
     "text": [
      "Test Accuracy: 0.3721495895408939\n"
     ]
    }
   ],
   "source": [
    "model = DecisionTreeClassifier(max_depth=20, random_state=42)\n",
    "model.fit(X_train, y_train)\n",
    "\n",
    "y_pred = model.predict(X_test)\n",
    "acc = accuracy_score(y_test, y_pred)\n",
    "print(\"Test Accuracy:\", acc)\n"
   ]
  },
  {
   "cell_type": "code",
   "execution_count": 133,
   "metadata": {},
   "outputs": [],
   "source": [
    "def gen_text(model, start_text, char_to_int, int_to_ch, length=50):\n",
    "    output = start_text\n",
    "    window_size = len(start_text)\n",
    "\n",
    "    while len(output) < length:\n",
    "        prev_start = output[-window_size:]\n",
    "        X_inp = [[char_to_int[ch] for ch in prev_start]]\n",
    "        output_label = model.predict(X_inp)\n",
    "        output+=int_to_ch[output_label[0]]\n",
    "\n",
    "    return output\n",
    "\n"
   ]
  },
  {
   "cell_type": "code",
   "execution_count": 134,
   "metadata": {},
   "outputs": [
    {
     "data": {
      "text/plain": [
       "'aze the th'"
      ]
     },
     "execution_count": 134,
     "metadata": {},
     "output_type": "execute_result"
    }
   ],
   "source": [
    "gen_text(model, 'az', ch_to_int, int_to_ch, length=10)"
   ]
  },
  {
   "cell_type": "markdown",
   "metadata": {},
   "source": [
    "### Random Forest"
   ]
  },
  {
   "cell_type": "code",
   "execution_count": 136,
   "metadata": {},
   "outputs": [
    {
     "name": "stdout",
     "output_type": "stream",
     "text": [
      "Random Forest Test Accuracy: 0.37549407114624506\n"
     ]
    }
   ],
   "source": [
    "model_rf = RandomForestClassifier(random_state=42)\n",
    "model_rf.fit(X_train, y_train)\n",
    "\n",
    "y_pred = model_rf.predict(X_test)\n",
    "acc = accuracy_score(y_test, y_pred)\n",
    "print(\"Random Forest Test Accuracy:\", acc)"
   ]
  },
  {
   "cell_type": "code",
   "execution_count": 137,
   "metadata": {},
   "outputs": [
    {
     "data": {
      "text/plain": [
       "'aze the th'"
      ]
     },
     "execution_count": 137,
     "metadata": {},
     "output_type": "execute_result"
    }
   ],
   "source": [
    "gen_text(model_rf, 'az', ch_to_int, int_to_ch, length=10)"
   ]
  }
 ],
 "metadata": {
  "kernelspec": {
   "display_name": "venv",
   "language": "python",
   "name": "python3"
  },
  "language_info": {
   "codemirror_mode": {
    "name": "ipython",
    "version": 3
   },
   "file_extension": ".py",
   "mimetype": "text/x-python",
   "name": "python",
   "nbconvert_exporter": "python",
   "pygments_lexer": "ipython3",
   "version": "3.13.1"
  }
 },
 "nbformat": 4,
 "nbformat_minor": 2
}
